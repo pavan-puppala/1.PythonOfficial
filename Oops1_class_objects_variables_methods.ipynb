{
 "cells": [
  {
   "cell_type": "markdown",
   "metadata": {},
   "source": [
    "## What is Class:(which does not exist physically)\n",
    "- In Python every thing is an object. To create objects we required some Model or Plan or Blue print, which is nothing but class.\n",
    "- We can write a class to represent properties (attributes) and actions (behaviour) of object.\n",
    "- Properties can be represented by variables\n",
    "- Actions can be represented by Methods.\n",
    "- Hence class contains both variables and methods."
   ]
  },
  {
   "cell_type": "markdown",
   "metadata": {},
   "source": [
    "## How to Define a class?\n",
    "- We can define a class by using class keyword.\n",
    "- syntax\n",
    "  class className:\n",
    "        \"doc String\"\n",
    "        variables: instance , static, local variables\n",
    "        methods: instance, class, static method"
   ]
  },
  {
   "cell_type": "code",
   "execution_count": 1,
   "metadata": {},
   "outputs": [],
   "source": [
    "#class\n",
    "class Student:\n",
    "    pass"
   ]
  },
  {
   "cell_type": "markdown",
   "metadata": {},
   "source": [
    "- Documentation string represents description of the class. Within the class doc string is always optional. We can get doc string by using the following 2 ways.\n",
    "- print(classname.__doc__)\n",
    "- help(classname)"
   ]
  },
  {
   "cell_type": "code",
   "execution_count": 2,
   "metadata": {},
   "outputs": [],
   "source": [
    "class usParLoansSynopsis:\n",
    "    \"\"\"contains trade details of a trader\"\"\""
   ]
  },
  {
   "cell_type": "code",
   "execution_count": 3,
   "metadata": {},
   "outputs": [
    {
     "name": "stdout",
     "output_type": "stream",
     "text": [
      "contains trade details of a trader\n"
     ]
    }
   ],
   "source": [
    "print(usParLoansSynopsis.__doc__)"
   ]
  },
  {
   "cell_type": "code",
   "execution_count": 4,
   "metadata": {},
   "outputs": [
    {
     "name": "stdout",
     "output_type": "stream",
     "text": [
      "Help on class usParLoansSynopsis in module __main__:\n",
      "\n",
      "class usParLoansSynopsis(builtins.object)\n",
      " |  contains trade details of a trader\n",
      " |  \n",
      " |  Data descriptors defined here:\n",
      " |  \n",
      " |  __dict__\n",
      " |      dictionary for instance variables (if defined)\n",
      " |  \n",
      " |  __weakref__\n",
      " |      list of weak references to the object (if defined)\n",
      "\n"
     ]
    }
   ],
   "source": [
    "help(usParLoansSynopsis)"
   ]
  },
  {
   "cell_type": "markdown",
   "metadata": {},
   "source": [
    "- Within the Python class we can represent data by using variables.\n",
    "- There are 3 types of variables are allowed.\n",
    "    1. Instance Variables (Object Level Variables)\n",
    "    2. Static Variables (Class Level Variables)\n",
    "    3. Local variables (Method Level Variables)"
   ]
  },
  {
   "cell_type": "markdown",
   "metadata": {},
   "source": [
    "- Within the Python class, we can represent operations by using methods. The following are various types of allowed methods\n",
    "   1. Instance Methods\n",
    "   2. Class Methods\n",
    "   3. Static Methods"
   ]
  },
  {
   "cell_type": "code",
   "execution_count": 5,
   "metadata": {},
   "outputs": [],
   "source": [
    "class latamFlow:\n",
    "    \"\"\"lataflow trader contains trade details of a trader\"\"\"\n",
    "    def __init__(self):\n",
    "        self.name=\"pawan\"\n",
    "        self.age=25\n",
    "        self.qual=\"btech\"\n",
    "        \n",
    "    def details(self):\n",
    "        print(\"hi \",self.name)\n",
    "        print(\"my age is:\",self.age)\n",
    "        print(\"I'VE DONE MY\",self.qual)"
   ]
  },
  {
   "cell_type": "markdown",
   "metadata": {},
   "source": [
    "### Example of class"
   ]
  },
  {
   "cell_type": "code",
   "execution_count": 25,
   "metadata": {},
   "outputs": [
    {
     "name": "stdout",
     "output_type": "stream",
     "text": [
      "pawan 26 mech\n",
      "kalyan 25 Cse\n"
     ]
    }
   ],
   "source": [
    "class Student:\n",
    "    def __init__(self,x,y,z):\n",
    "        self.name=x\n",
    "        self.age=y\n",
    "        self.qual=z\n",
    "        \n",
    "s1=Student(\"pawan\",26,\"mech\")\n",
    "print(s1.name,s1.age,s1.qual)\n",
    "\n",
    "s2=Student(\"kalyan\",25,\"Cse\")\n",
    "print(s2.name,s2.age,s2.qual)"
   ]
  },
  {
   "cell_type": "markdown",
   "metadata": {},
   "source": [
    "## What is Object:\n",
    "- Pysical existence of a class is nothing but object. We can create any number of objects for a class.\n",
    "- syntax:-        refvariable = className()"
   ]
  },
  {
   "cell_type": "code",
   "execution_count": 6,
   "metadata": {},
   "outputs": [],
   "source": [
    "#ref variable and object creation\n",
    "s = latamFlow()"
   ]
  },
  {
   "cell_type": "code",
   "execution_count": 7,
   "metadata": {},
   "outputs": [
    {
     "name": "stdout",
     "output_type": "stream",
     "text": [
      "Practicing python..\n"
     ]
    }
   ],
   "source": [
    "class Student:\n",
    "    def read(self):\n",
    "        print(\"Practicing python..\")\n",
    "s=Student()\n",
    "s.read()"
   ]
  },
  {
   "cell_type": "markdown",
   "metadata": {},
   "source": [
    "## What is Reference Variable:\n",
    "- The variable which can be used to refer object is called reference variable.\n",
    "- By using reference variable, we can access properties and methods of that object."
   ]
  },
  {
   "cell_type": "code",
   "execution_count": 8,
   "metadata": {},
   "outputs": [
    {
     "name": "stdout",
     "output_type": "stream",
     "text": [
      "hi  pawan\n",
      "my age is: 25\n",
      "I'VE DONE MY btech\n"
     ]
    }
   ],
   "source": [
    "class latamFlow:\n",
    "    \"\"\"lataflow trader contains trade details of a trader\"\"\"\n",
    "    def __init__(self):\n",
    "        self.name=\"pawan\"\n",
    "        self.age=25\n",
    "        self.qual=\"btech\"\n",
    "        \n",
    "    def details(self):\n",
    "        print(\"hi \",self.name)\n",
    "        print(\"my age is:\",self.age)\n",
    "        print(\"I'VE DONE MY\",self.qual)\n",
    "    \n",
    "s = latamFlow()\n",
    "s.details()"
   ]
  },
  {
   "cell_type": "code",
   "execution_count": 9,
   "metadata": {},
   "outputs": [
    {
     "name": "stdout",
     "output_type": "stream",
     "text": [
      "hi  pawan\n",
      "my age is: 24\n",
      "I'VE DONE MY btech\n"
     ]
    }
   ],
   "source": [
    "class latamFlow:\n",
    "    \"\"\"lataflow trader contains trade details of a trader\"\"\"\n",
    "    def __init__(self,n,a,q):\n",
    "        self.name=n\n",
    "        self.age=a\n",
    "        self.qual=q\n",
    "        \n",
    "    def details(self):\n",
    "        print(\"hi \",self.name)\n",
    "        print(\"my age is:\",self.age)\n",
    "        print(\"I'VE DONE MY\",self.qual)\n",
    "    \n",
    "s = latamFlow(\"pawan\",24,\"btech\")\n",
    "s.details()"
   ]
  },
  {
   "cell_type": "markdown",
   "metadata": {},
   "source": [
    "## Self variable:\n",
    "- self is the default variable which is always pointing to current object (like this keyword in Java)\n",
    "- By using self we can access instance variables and instance methods of object"
   ]
  },
  {
   "cell_type": "markdown",
   "metadata": {},
   "source": [
    "####  Note:\n",
    "    1. self should be first parameter inside constructor def __init__(self):\n",
    "    2. self should be first parameter inside instance methods def details(self):"
   ]
  },
  {
   "cell_type": "markdown",
   "metadata": {},
   "source": [
    "## Constructor Concept:(optional)\n",
    "- Constructor is a special method in python.\n",
    "- The name of the constructor should be __init__(self)\n",
    "- Constructor will be executed automatically at the time of object creation. \n",
    "- The main purpose of constructor is to declare and initialize instance variables.\n",
    "- Per object constructor will be exeucted only once.\n",
    "- Constructor can take atleast one argument(atleast self)\n",
    "- Constructor is optional and if we are not providing any constructor then python will provide default constructor."
   ]
  },
  {
   "cell_type": "code",
   "execution_count": 10,
   "metadata": {},
   "outputs": [],
   "source": [
    "class Student:\n",
    "    def __init__(self,n,a,q):\n",
    "        self.name=n\n",
    "        self.age=a\n",
    "        self.qual=q"
   ]
  },
  {
   "cell_type": "markdown",
   "metadata": {},
   "source": [
    "#### Constructor with multiple args"
   ]
  },
  {
   "cell_type": "code",
   "execution_count": 11,
   "metadata": {},
   "outputs": [
    {
     "name": "stdout",
     "output_type": "stream",
     "text": [
      "HI  \n",
      "marks 0\n",
      "HI  pawan\n",
      "marks 80\n"
     ]
    }
   ],
   "source": [
    "class Student:\n",
    "    def __init__(self,m='',n=0):\n",
    "        self.name=m\n",
    "        self.marks=n\n",
    "        \n",
    "    def display(self):\n",
    "        print(\"HI \",self.name)\n",
    "        print(\"marks\",self.marks)\n",
    "        \n",
    "s1=Student()\n",
    "s1.display()\n",
    "\n",
    "s2=Student(\"pawan\",80)\n",
    "s2.display()"
   ]
  },
  {
   "cell_type": "markdown",
   "metadata": {},
   "source": [
    "#### constructor with mandatory args"
   ]
  },
  {
   "cell_type": "code",
   "execution_count": 26,
   "metadata": {},
   "outputs": [],
   "source": [
    "class Student:\n",
    "    def __init__(self,x,y,z):\n",
    "        self.name=x\n",
    "        self.age=y\n",
    "        self.qual=z\n",
    "        \n",
    "    def talk(self):\n",
    "        print(\"my name is\",self.name)\n",
    "        print(\"my age is\",self.age)\n",
    "        print(\"my qual is\",self.qual)"
   ]
  },
  {
   "cell_type": "code",
   "execution_count": 27,
   "metadata": {},
   "outputs": [
    {
     "name": "stdout",
     "output_type": "stream",
     "text": [
      "my name is pawan\n",
      "my age is 25\n",
      "my qual is Mech\n"
     ]
    }
   ],
   "source": [
    "s1=Student(\"pawan\",25,\"Mech\")\n",
    "s1.talk()"
   ]
  },
  {
   "cell_type": "code",
   "execution_count": 28,
   "metadata": {},
   "outputs": [
    {
     "name": "stdout",
     "output_type": "stream",
     "text": [
      "my name is kumar\n",
      "my age is 25\n",
      "my qual is CSE\n"
     ]
    }
   ],
   "source": [
    "s2=Student(\"kumar\",25,\"CSE\")\n",
    "s2.talk()"
   ]
  },
  {
   "cell_type": "code",
   "execution_count": 29,
   "metadata": {},
   "outputs": [
    {
     "name": "stdout",
     "output_type": "stream",
     "text": [
      "calling constructor\n",
      "calling constructor\n",
      "calling constructor\n",
      "calling method\n"
     ]
    }
   ],
   "source": [
    "class Test:\n",
    "    def __init__(self):\n",
    "        print(\"calling constructor\")\n",
    "        \n",
    "    def details(self):\n",
    "        print(\"calling method\")\n",
    "        \n",
    "t1=Test()\n",
    "t2=Test()\n",
    "t3=Test()\n",
    "t1.details()"
   ]
  },
  {
   "cell_type": "code",
   "execution_count": 30,
   "metadata": {},
   "outputs": [
    {
     "name": "stdout",
     "output_type": "stream",
     "text": [
      "HI i am 25 my emp id is pawan my sal is 2600\n",
      "HI i am 100125 my emp id is swamy my sal is 32000\n"
     ]
    }
   ],
   "source": [
    "class Employee:\n",
    "    def __init__(self,x,y,z):\n",
    "        self.eid = x\n",
    "        self.ename=y\n",
    "        self.esal =z\n",
    "    \n",
    "    def emp_Details(self):\n",
    "        #print(\"HI i am\",self.ename,\"my emp id is\",self.eid,\"my sal is\",self.esal)\n",
    "        #print(\"HI i am {} my emp id is {} my sal is {}\".format(self.eid,self.ename,self.esal))\n",
    "        print(\"HI i am {0} my emp id is {1} my sal is {2}\".format(self.eid,self.ename,self.esal))   #foramttig of ouputs\n",
    "        \n",
    "e1 = Employee(25,\"pawan\",2600)\n",
    "e1.emp_Details()\n",
    "\n",
    "e2 = Employee(100125,\"swamy\",32000)\n",
    "e2.emp_Details()"
   ]
  },
  {
   "cell_type": "code",
   "execution_count": 14,
   "metadata": {},
   "outputs": [
    {
     "data": {
      "image/png": "[encoded data removed]",
      "text/plain": [
       "<IPython.core.display.Image object>"
      ]
     },
     "execution_count": 14,
     "metadata": {},
     "output_type": "execute_result"
    }
   ],
   "source": [
    "import IPython.display as d\n",
    "\n",
    "d.Image(\"E:/code/1.pythonofficial/python/oop2.png\")"
   ]
  },
  {
   "cell_type": "markdown",
   "metadata": {},
   "source": [
    "## Differences between Methods and Constructors:"
   ]
  },
  {
   "cell_type": "code",
   "execution_count": 15,
   "metadata": {},
   "outputs": [
    {
     "data": {
      "image/png": "[encoded data removed]",
      "text/plain": [
       "<IPython.core.display.Image object>"
      ]
     },
     "execution_count": 15,
     "metadata": {},
     "output_type": "execute_result"
    }
   ],
   "source": [
    "from IPython.display import Image\n",
    "Image(\"E:/code/1.pythonofficial/python/oop1.png\")"
   ]
  },
  {
   "cell_type": "markdown",
   "metadata": {},
   "source": [
    "## Types of variables: Inside Python class 3 types of variables are allowed.\n",
    "- 1. Instance Variables (Object Level Variables)\n",
    "- 2. Static Variables (Class Level Variables)\n",
    "- 3. Local variables (Method Level Variables)"
   ]
  },
  {
   "cell_type": "markdown",
   "metadata": {},
   "source": [
    "#### 1. Instance Variables:\n",
    "- If the value of a variable is varied from object to object, then such type of variables are called instance variables.\n",
    "- For every object a separate copy of instance variables will be created."
   ]
  },
  {
   "cell_type": "markdown",
   "metadata": {},
   "source": [
    "#### Where we can declare Instance variables: \n",
    "- 1. Inside Constructor by using self variable\n",
    "- 2. Inside Instance Method by using self variable \n",
    "- 3. Outside of the class by using object reference variable"
   ]
  },
  {
   "cell_type": "code",
   "execution_count": 16,
   "metadata": {},
   "outputs": [
    {
     "data": {
      "text/plain": [
       "{'name': 'pawan', 'age': 25}"
      ]
     },
     "execution_count": 16,
     "metadata": {},
     "output_type": "execute_result"
    }
   ],
   "source": [
    "# declaration \n",
    "class Employee:\n",
    "    # Inside Constructor by using self variable. once we create an obj automatically these variable will be added to object\n",
    "    def __init__(self):                 \n",
    "        self.name=\"pawan\"\n",
    "        self.age=25\n",
    "    \n",
    "    # Inside Instance Method by using self variable. this varibale will be added once we call that method\n",
    "    def talk(self):\n",
    "        self.qual=\"mech\"\n",
    "        \n",
    "e=Employee()\n",
    "e.__dict__"
   ]
  },
  {
   "cell_type": "code",
   "execution_count": 17,
   "metadata": {},
   "outputs": [
    {
     "data": {
      "text/plain": [
       "{'name': 'pawan', 'age': 25, 'qual': 'mech'}"
      ]
     },
     "execution_count": 17,
     "metadata": {},
     "output_type": "execute_result"
    }
   ],
   "source": [
    "e.talk()\n",
    "e.__dict__"
   ]
  },
  {
   "cell_type": "code",
   "execution_count": 18,
   "metadata": {},
   "outputs": [
    {
     "data": {
      "text/plain": [
       "{'name': 'pawan', 'age': 25, 'qual': 'mech', 'phone': '8143'}"
      ]
     },
     "execution_count": 18,
     "metadata": {},
     "output_type": "execute_result"
    }
   ],
   "source": [
    "# Outside of the class by using object reference variable\n",
    "e.phone=\"8143\"\n",
    "e.__dict__"
   ]
  },
  {
   "cell_type": "markdown",
   "metadata": {},
   "source": [
    "#### Accesing\n",
    "- We can access instance variables with in the class by using self variable and outside of the class by using object reference."
   ]
  },
  {
   "cell_type": "code",
   "execution_count": 19,
   "metadata": {},
   "outputs": [
    {
     "name": "stdout",
     "output_type": "stream",
     "text": [
      "swamy\n",
      "25\n"
     ]
    }
   ],
   "source": [
    "class Employee:\n",
    "    def __init__(self):\n",
    "        self.name=\"swamy\"\n",
    "        self.age=25\n",
    "        \n",
    "    def talk(self):\n",
    "        print(self.name)     # within the class by using self\n",
    "        print(self.age)\n",
    "        \n",
    "e=Employee()\n",
    "e.talk()"
   ]
  },
  {
   "cell_type": "code",
   "execution_count": 20,
   "metadata": {},
   "outputs": [
    {
     "name": "stdout",
     "output_type": "stream",
     "text": [
      "swamy\n",
      "25\n"
     ]
    }
   ],
   "source": [
    "print(e.name)              # outside the class by using obj ref.\n",
    "print(e.age)"
   ]
  },
  {
   "cell_type": "markdown",
   "metadata": {},
   "source": [
    "#### delete instance variable"
   ]
  },
  {
   "cell_type": "code",
   "execution_count": 21,
   "metadata": {},
   "outputs": [],
   "source": [
    "class Employee:\n",
    "    def __init__(self):\n",
    "        self.name=\"swamy\"\n",
    "        self.age=25\n",
    "        self.qual=\"btech\"\n",
    "        self.place=\"bvrm\"\n",
    "        \n",
    "    def talk(self):\n",
    "        del self.name     # within the class by using del self.variablename "
   ]
  },
  {
   "cell_type": "code",
   "execution_count": 22,
   "metadata": {},
   "outputs": [
    {
     "data": {
      "text/plain": [
       "{'name': 'swamy', 'age': 25, 'qual': 'btech', 'place': 'bvrm'}"
      ]
     },
     "execution_count": 22,
     "metadata": {},
     "output_type": "execute_result"
    }
   ],
   "source": [
    "e=Employee()\n",
    "e.__dict__"
   ]
  },
  {
   "cell_type": "code",
   "execution_count": 23,
   "metadata": {},
   "outputs": [
    {
     "data": {
      "text/plain": [
       "{'age': 25, 'qual': 'btech', 'place': 'bvrm'}"
      ]
     },
     "execution_count": 23,
     "metadata": {},
     "output_type": "execute_result"
    }
   ],
   "source": [
    "e.talk()\n",
    "e.__dict__"
   ]
  },
  {
   "cell_type": "code",
   "execution_count": 24,
   "metadata": {},
   "outputs": [
    {
     "data": {
      "text/plain": [
       "{'age': 25, 'qual': 'btech'}"
      ]
     },
     "execution_count": 24,
     "metadata": {},
     "output_type": "execute_result"
    }
   ],
   "source": [
    "del e.place\n",
    "e.__dict__"
   ]
  },
  {
   "cell_type": "markdown",
   "metadata": {},
   "source": [
    "#### NOTE: for declaring, accessing, deleting ofinstnce variable\n",
    "- inside of the class we are using 'self' variable\n",
    "- outside of the class we are using 'obj ref' variable"
   ]
  },
  {
   "cell_type": "code",
   "execution_count": 39,
   "metadata": {},
   "outputs": [
    {
     "data": {
      "image/png": "[encoded data removed]",
      "text/plain": [
       "<IPython.core.display.Image object>"
      ]
     },
     "execution_count": 39,
     "metadata": {},
     "output_type": "execute_result"
    }
   ],
   "source": [
    "import IPython.display as d\n",
    "d.Image(\"E:/code/1.pythonofficial/python/oop3.png\")"
   ]
  },
  {
   "cell_type": "markdown",
   "metadata": {},
   "source": [
    "### Instanace variables which are deleted from one object will not be deleted for another objects"
   ]
  },
  {
   "cell_type": "code",
   "execution_count": 31,
   "metadata": {},
   "outputs": [],
   "source": [
    "class Test:\n",
    "    def __init__(self):\n",
    "        self.a=10\n",
    "        self.b=20\n",
    "        self.c=30\n",
    "        self.d=40"
   ]
  },
  {
   "cell_type": "code",
   "execution_count": 32,
   "metadata": {},
   "outputs": [
    {
     "data": {
      "text/plain": [
       "{'a': 10, 'b': 20, 'c': 30, 'd': 40}"
      ]
     },
     "execution_count": 32,
     "metadata": {},
     "output_type": "execute_result"
    }
   ],
   "source": [
    "t=Test()\n",
    "t.__dict__"
   ]
  },
  {
   "cell_type": "code",
   "execution_count": 33,
   "metadata": {},
   "outputs": [
    {
     "data": {
      "text/plain": [
       "{'b': 20, 'c': 30, 'd': 40}"
      ]
     },
     "execution_count": 33,
     "metadata": {},
     "output_type": "execute_result"
    }
   ],
   "source": [
    "del t.a\n",
    "t.__dict__"
   ]
  },
  {
   "cell_type": "code",
   "execution_count": 34,
   "metadata": {},
   "outputs": [
    {
     "data": {
      "text/plain": [
       "{'a': 10, 'b': 20, 'c': 30, 'd': 40}"
      ]
     },
     "execution_count": 34,
     "metadata": {},
     "output_type": "execute_result"
    }
   ],
   "source": [
    "t2=Test()\n",
    "t2.__dict__"
   ]
  },
  {
   "cell_type": "markdown",
   "metadata": {},
   "source": [
    "### if changes happen in one object should not effect to another object"
   ]
  },
  {
   "cell_type": "code",
   "execution_count": 35,
   "metadata": {},
   "outputs": [],
   "source": [
    "class Test:\n",
    "    def __init__(self):\n",
    "        self.a=10\n",
    "        self.b=20\n",
    "        self.c=30\n",
    "        self.d=40"
   ]
  },
  {
   "cell_type": "code",
   "execution_count": 36,
   "metadata": {},
   "outputs": [
    {
     "data": {
      "text/plain": [
       "{'a': 10, 'b': 20, 'c': 30, 'd': 40}"
      ]
     },
     "execution_count": 36,
     "metadata": {},
     "output_type": "execute_result"
    }
   ],
   "source": [
    "t=Test()\n",
    "t.__dict__"
   ]
  },
  {
   "cell_type": "code",
   "execution_count": 37,
   "metadata": {},
   "outputs": [
    {
     "data": {
      "text/plain": [
       "{'a': 111, 'b': 222, 'c': 30, 'd': 40}"
      ]
     },
     "execution_count": 37,
     "metadata": {},
     "output_type": "execute_result"
    }
   ],
   "source": [
    "t.a=111\n",
    "t.b=222\n",
    "t.__dict__"
   ]
  },
  {
   "cell_type": "code",
   "execution_count": 38,
   "metadata": {},
   "outputs": [
    {
     "data": {
      "text/plain": [
       "{'a': 10, 'b': 20, 'c': 30, 'd': 40}"
      ]
     },
     "execution_count": 38,
     "metadata": {},
     "output_type": "execute_result"
    }
   ],
   "source": [
    "t2=Test()\n",
    "t2.__dict__"
   ]
  },
  {
   "cell_type": "markdown",
   "metadata": {},
   "source": [
    "## Static variable: \n",
    "- The value of variable which is not varied from object to object.\n",
    "- For total class only one copy of static variable will be created and shared by all objects of that class.\n",
    "- We can access static variables either by class name or by object reference. But recommended to use class name."
   ]
  },
  {
   "cell_type": "markdown",
   "metadata": {},
   "source": [
    "#### declaring(classname)"
   ]
  },
  {
   "cell_type": "code",
   "execution_count": 40,
   "metadata": {},
   "outputs": [],
   "source": [
    "class Test:\n",
    "    a=10               #directly inside of class & outside of method\n",
    "    def __init__(self):\n",
    "        Test.b=20      #using classname\n",
    "        \n",
    "    def m1(self):\n",
    "        Test.c=30      #using classname\n",
    "        \n",
    "    @classmethod\n",
    "    def m2(cls):\n",
    "        cls.d1=40      #using cls variable or classname\n",
    "        Test.d2=444\n",
    "    \n",
    "    @staticmethod\n",
    "    def m3():\n",
    "        Test.e=50      #using classname"
   ]
  },
  {
   "cell_type": "code",
   "execution_count": 41,
   "metadata": {},
   "outputs": [
    {
     "name": "stdout",
     "output_type": "stream",
     "text": [
      "{'__module__': '__main__', 'a': 10, '__init__': <function Test.__init__ at 0x0000018045CB8A60>, 'm1': <function Test.m1 at 0x0000018045CB8AE8>, 'm2': <classmethod object at 0x0000018044B3C198>, 'm3': <staticmethod object at 0x0000018044B3C780>, '__dict__': <attribute '__dict__' of 'Test' objects>, '__weakref__': <attribute '__weakref__' of 'Test' objects>, '__doc__': None}\n"
     ]
    }
   ],
   "source": [
    "print(Test.__dict__)"
   ]
  },
  {
   "cell_type": "code",
   "execution_count": 42,
   "metadata": {},
   "outputs": [
    {
     "name": "stdout",
     "output_type": "stream",
     "text": [
      "{'__module__': '__main__', 'a': 10, '__init__': <function Test.__init__ at 0x0000018045CB8A60>, 'm1': <function Test.m1 at 0x0000018045CB8AE8>, 'm2': <classmethod object at 0x0000018044B3C198>, 'm3': <staticmethod object at 0x0000018044B3C780>, '__dict__': <attribute '__dict__' of 'Test' objects>, '__weakref__': <attribute '__weakref__' of 'Test' objects>, '__doc__': None, 'b': 20}\n"
     ]
    }
   ],
   "source": [
    "t=Test()\n",
    "print(Test.__dict__)"
   ]
  },
  {
   "cell_type": "code",
   "execution_count": 43,
   "metadata": {},
   "outputs": [
    {
     "name": "stdout",
     "output_type": "stream",
     "text": [
      "{'__module__': '__main__', 'a': 10, '__init__': <function Test.__init__ at 0x0000018045CB8A60>, 'm1': <function Test.m1 at 0x0000018045CB8AE8>, 'm2': <classmethod object at 0x0000018044B3C198>, 'm3': <staticmethod object at 0x0000018044B3C780>, '__dict__': <attribute '__dict__' of 'Test' objects>, '__weakref__': <attribute '__weakref__' of 'Test' objects>, '__doc__': None, 'b': 20, 'c': 30}\n"
     ]
    }
   ],
   "source": [
    "t.m1()\n",
    "print(Test.__dict__)"
   ]
  },
  {
   "cell_type": "code",
   "execution_count": 44,
   "metadata": {},
   "outputs": [
    {
     "name": "stdout",
     "output_type": "stream",
     "text": [
      "{'__module__': '__main__', 'a': 10, '__init__': <function Test.__init__ at 0x0000018045CB8A60>, 'm1': <function Test.m1 at 0x0000018045CB8AE8>, 'm2': <classmethod object at 0x0000018044B3C198>, 'm3': <staticmethod object at 0x0000018044B3C780>, '__dict__': <attribute '__dict__' of 'Test' objects>, '__weakref__': <attribute '__weakref__' of 'Test' objects>, '__doc__': None, 'b': 20, 'c': 30, 'd1': 40, 'd2': 444}\n"
     ]
    }
   ],
   "source": [
    "Test.m2()\n",
    "print(Test.__dict__)"
   ]
  },
  {
   "cell_type": "code",
   "execution_count": 45,
   "metadata": {},
   "outputs": [
    {
     "name": "stdout",
     "output_type": "stream",
     "text": [
      "{'__module__': '__main__', 'a': 10, '__init__': <function Test.__init__ at 0x0000018045CB8A60>, 'm1': <function Test.m1 at 0x0000018045CB8AE8>, 'm2': <classmethod object at 0x0000018044B3C198>, 'm3': <staticmethod object at 0x0000018044B3C780>, '__dict__': <attribute '__dict__' of 'Test' objects>, '__weakref__': <attribute '__weakref__' of 'Test' objects>, '__doc__': None, 'b': 20, 'c': 30, 'd1': 40, 'd2': 444, 'e': 50}\n"
     ]
    }
   ],
   "source": [
    "Test.m3()\n",
    "print(Test.__dict__)"
   ]
  },
  {
   "cell_type": "code",
   "execution_count": 46,
   "metadata": {},
   "outputs": [
    {
     "name": "stdout",
     "output_type": "stream",
     "text": [
      "{'__module__': '__main__', 'a': 10, '__init__': <function Test.__init__ at 0x0000018045CB8A60>, 'm1': <function Test.m1 at 0x0000018045CB8AE8>, 'm2': <classmethod object at 0x0000018044B3C198>, 'm3': <staticmethod object at 0x0000018044B3C780>, '__dict__': <attribute '__dict__' of 'Test' objects>, '__weakref__': <attribute '__weakref__' of 'Test' objects>, '__doc__': None, 'b': 20, 'c': 30, 'd1': 40, 'd2': 444, 'e': 50, 'f': 60}\n"
     ]
    }
   ],
   "source": [
    "Test.f=60\n",
    "print(Test.__dict__)"
   ]
  },
  {
   "cell_type": "markdown",
   "metadata": {},
   "source": [
    "#### Acceessing"
   ]
  },
  {
   "cell_type": "code",
   "execution_count": 47,
   "metadata": {},
   "outputs": [
    {
     "name": "stdout",
     "output_type": "stream",
     "text": [
      "10\n",
      "10\n"
     ]
    }
   ],
   "source": [
    "#inside of constructor using classname or self\n",
    "class Test:\n",
    "    a=10\n",
    "    def __init__(self):\n",
    "        print(self.a)\n",
    "        print(Test.a)\n",
    "t=Test()"
   ]
  },
  {
   "cell_type": "code",
   "execution_count": 48,
   "metadata": {},
   "outputs": [
    {
     "name": "stdout",
     "output_type": "stream",
     "text": [
      "10\n",
      "10\n"
     ]
    }
   ],
   "source": [
    "#inside of instance method by using classname or self\n",
    "class Test:\n",
    "    a=10\n",
    "    def m1(self):\n",
    "        print(self.a)\n",
    "        print(Test.a)\n",
    "        \n",
    "t=Test()\n",
    "t.m1()"
   ]
  },
  {
   "cell_type": "code",
   "execution_count": 49,
   "metadata": {},
   "outputs": [
    {
     "name": "stdout",
     "output_type": "stream",
     "text": [
      "10\n",
      "10\n"
     ]
    }
   ],
   "source": [
    "#inside of class method by using classname or cls varibale\n",
    "class Test:\n",
    "    a=10\n",
    "    \n",
    "    @classmethod\n",
    "    def m2(cls):\n",
    "        print(cls.a)\n",
    "        print(Test.a)\n",
    "        \n",
    "t=Test()\n",
    "t.m2()"
   ]
  },
  {
   "cell_type": "code",
   "execution_count": 50,
   "metadata": {},
   "outputs": [
    {
     "name": "stdout",
     "output_type": "stream",
     "text": [
      "10\n"
     ]
    }
   ],
   "source": [
    "#inside of static method by using classname\n",
    "class Test:\n",
    "    a=10\n",
    "    \n",
    "    @staticmethod\n",
    "    def m3():\n",
    "        print(Test.a)\n",
    "        \n",
    "t=Test()\n",
    "t.m3()"
   ]
  },
  {
   "cell_type": "code",
   "execution_count": 51,
   "metadata": {},
   "outputs": [
    {
     "name": "stdout",
     "output_type": "stream",
     "text": [
      "10\n",
      "10\n"
     ]
    }
   ],
   "source": [
    "##outside of the class by using ref variable or classname\n",
    "class Test:\n",
    "    a=10\n",
    "    \n",
    "t=Test()\n",
    "print(t.a)\n",
    "print(Test.a)"
   ]
  },
  {
   "cell_type": "code",
   "execution_count": 77,
   "metadata": {},
   "outputs": [],
   "source": [
    "class Test:\n",
    "    a=10\n",
    "    @classmethod\n",
    "    def m2(cls):\n",
    "        del cls.a"
   ]
  },
  {
   "cell_type": "code",
   "execution_count": 78,
   "metadata": {},
   "outputs": [
    {
     "data": {
      "text/plain": [
       "mappingproxy({'__module__': '__main__',\n",
       "              'm2': <classmethod at 0x18044b3c1d0>,\n",
       "              '__dict__': <attribute '__dict__' of 'Test' objects>,\n",
       "              '__weakref__': <attribute '__weakref__' of 'Test' objects>,\n",
       "              '__doc__': None})"
      ]
     },
     "execution_count": 78,
     "metadata": {},
     "output_type": "execute_result"
    }
   ],
   "source": [
    "Test.m2()\n",
    "Test.__dict__"
   ]
  },
  {
   "cell_type": "markdown",
   "metadata": {},
   "source": [
    "#### NOTE:\n",
    "- declaring,modifying and deleting of class or static variable by using \"classname or cls variable\"\n",
    "-  accessing we use self,classname,cls,obj ref."
   ]
  },
  {
   "cell_type": "code",
   "execution_count": 91,
   "metadata": {},
   "outputs": [
    {
     "data": {
      "image/png": "[encoded data removed]",
      "text/plain": [
       "<IPython.core.display.Image object>"
      ]
     },
     "execution_count": 91,
     "metadata": {},
     "output_type": "execute_result"
    }
   ],
   "source": [
    "import IPython.display as d\n",
    "d.Image(\"E:/code/1.pythonofficial/python/oop4.png\")"
   ]
  },
  {
   "cell_type": "markdown",
   "metadata": {},
   "source": [
    "#### where we can modify the value of static variable\n",
    "- Anywhere either with in the class or outside of class we can modify by using classname. But inside class method, by using cls variable."
   ]
  },
  {
   "cell_type": "code",
   "execution_count": 59,
   "metadata": {},
   "outputs": [
    {
     "name": "stdout",
     "output_type": "stream",
     "text": [
      "777\n",
      "888\n",
      "99\n"
     ]
    }
   ],
   "source": [
    "class Test:\n",
    "    a=777\n",
    "    \n",
    "    @classmethod\n",
    "    def m1(cls):\n",
    "        cls.a= 888\n",
    "        \n",
    "    @staticmethod\n",
    "    def m2():\n",
    "        Test.a=99\n",
    "        \n",
    "print(Test.a)\n",
    "\n",
    "Test.m1()\n",
    "print(Test.a)\n",
    "\n",
    "Test.m2()\n",
    "print(Test.a)"
   ]
  },
  {
   "cell_type": "markdown",
   "metadata": {},
   "source": [
    "## If we change the value of static variable by using either self or object reference variable:\n",
    "- If we change the value of static variable by using either self or object reference variable, then the value of static variable won't be changed,just a new instance variable with that name will be added to that particular object."
   ]
  },
  {
   "cell_type": "code",
   "execution_count": 61,
   "metadata": {},
   "outputs": [
    {
     "name": "stdout",
     "output_type": "stream",
     "text": [
      "10\n",
      "888\n"
     ]
    }
   ],
   "source": [
    "class Test:\n",
    "    a=10\n",
    "    def m1(self):\n",
    "        self.a=888\n",
    "t1=Test()\n",
    "t1.m1()\n",
    "print(Test.a)\n",
    "print(t1.a)"
   ]
  },
  {
   "cell_type": "code",
   "execution_count": 63,
   "metadata": {},
   "outputs": [
    {
     "name": "stdout",
     "output_type": "stream",
     "text": [
      "t1: 10 20\n",
      "t2: 10 20\n",
      "t1: 888 999\n",
      "t2: 10 20\n"
     ]
    }
   ],
   "source": [
    "class Test:\n",
    "    x=10\n",
    "    def __init__(self):\n",
    "        self.y=20\n",
    "        \n",
    "t1=Test()\n",
    "t2=Test()\n",
    "print('t1:',t1.x,t1.y)\n",
    "print('t2:',t2.x,t2.y)\n",
    "# if you want to modify the static varibale we have to use classname \n",
    "# other wise if we use self variable it will create an instance variable\n",
    "t1.x=888\n",
    "t1.y=999                    \n",
    "print('t1:',t1.x,t1.y)\n",
    "print('t2:',t2.x,t2.y)"
   ]
  },
  {
   "cell_type": "code",
   "execution_count": 64,
   "metadata": {},
   "outputs": [
    {
     "name": "stdout",
     "output_type": "stream",
     "text": [
      "888 999\n",
      "888 20\n"
     ]
    }
   ],
   "source": [
    "class Test:\n",
    "    a=10\n",
    "    def __init__(self):\n",
    "        self.b=20\n",
    "        \n",
    "t1=Test()\n",
    "t2=Test()\n",
    "\n",
    "Test.a=888\n",
    "t1.b=999\n",
    "print(t1.a,t1.b)\n",
    "print(t2.a,t2.b)"
   ]
  },
  {
   "cell_type": "code",
   "execution_count": 65,
   "metadata": {},
   "outputs": [
    {
     "name": "stdout",
     "output_type": "stream",
     "text": [
      "888 999\n",
      "10 20\n"
     ]
    }
   ],
   "source": [
    "class Test:\n",
    "    a=10\n",
    "    def __init__(self):\n",
    "        self.b=20\n",
    "    def m1(self):\n",
    "        self.a=888\n",
    "        self.b=999\n",
    "t1=Test()\n",
    "t2=Test()\n",
    "t1.m1()\n",
    "print(t1.a,t1.b)\n",
    "print(t2.a,t2.b)"
   ]
  },
  {
   "cell_type": "code",
   "execution_count": 66,
   "metadata": {},
   "outputs": [
    {
     "name": "stdout",
     "output_type": "stream",
     "text": [
      "888 20\n",
      "888 20\n",
      "888 999\n"
     ]
    }
   ],
   "source": [
    "class Test:\n",
    "    a=10\n",
    "    def __init__(self):\n",
    "        self.b=20\n",
    "    @classmethod\n",
    "    def m1(cls):\n",
    "        cls.a=888\n",
    "        cls.b=999\n",
    "t1=Test()\n",
    "t2=Test()\n",
    "t1.m1()\n",
    "print(t1.a,t1.b)\n",
    "print(t2.a,t2.b)\n",
    "print(Test.a,Test.b)"
   ]
  },
  {
   "cell_type": "markdown",
   "metadata": {},
   "source": [
    "## deleting\n",
    "- we can delete static variable from anywhere \"del classname.variblename\"\n",
    "- but inside of the class method \"del cls.variablename\""
   ]
  },
  {
   "cell_type": "code",
   "execution_count": 80,
   "metadata": {},
   "outputs": [
    {
     "name": "stdout",
     "output_type": "stream",
     "text": [
      "{'__module__': '__main__', 'm1': <classmethod object at 0x00000180452C6EB8>, '__dict__': <attribute '__dict__' of 'Test' objects>, '__weakref__': <attribute '__weakref__' of 'Test' objects>, '__doc__': None}\n"
     ]
    }
   ],
   "source": [
    "class Test:\n",
    "    a=10\n",
    "    @classmethod\n",
    "    def m1(cls):\n",
    "        del cls.a\n",
    "Test.m1()\n",
    "print(Test.__dict__)"
   ]
  },
  {
   "cell_type": "code",
   "execution_count": 81,
   "metadata": {},
   "outputs": [],
   "source": [
    "class Test:\n",
    "    a=10\n",
    "    def __init__(self):\n",
    "        Test.b=20\n",
    "        del Test.a\n",
    "        \n",
    "    def m1(self):\n",
    "        Test.c=30\n",
    "        del Test.b\n",
    "        \n",
    "    @classmethod\n",
    "    def m2(cls):\n",
    "        cls.d=40\n",
    "        del Test.c\n",
    "    \n",
    "    @staticmethod\n",
    "    def m3():\n",
    "        Test.e=50\n",
    "        del Test.d"
   ]
  },
  {
   "cell_type": "code",
   "execution_count": 82,
   "metadata": {},
   "outputs": [
    {
     "name": "stdout",
     "output_type": "stream",
     "text": [
      "{'__module__': '__main__', 'a': 10, '__init__': <function Test.__init__ at 0x0000018045CCDD90>, 'm1': <function Test.m1 at 0x0000018045CCDD08>, 'm2': <classmethod object at 0x00000180452CBB70>, 'm3': <staticmethod object at 0x00000180452CBDA0>, '__dict__': <attribute '__dict__' of 'Test' objects>, '__weakref__': <attribute '__weakref__' of 'Test' objects>, '__doc__': None}\n",
      "{'__module__': '__main__', '__init__': <function Test.__init__ at 0x0000018045CCDD90>, 'm1': <function Test.m1 at 0x0000018045CCDD08>, 'm2': <classmethod object at 0x00000180452CBB70>, 'm3': <staticmethod object at 0x00000180452CBDA0>, '__dict__': <attribute '__dict__' of 'Test' objects>, '__weakref__': <attribute '__weakref__' of 'Test' objects>, '__doc__': None, 'b': 20}\n",
      "{'__module__': '__main__', '__init__': <function Test.__init__ at 0x0000018045CCDD90>, 'm1': <function Test.m1 at 0x0000018045CCDD08>, 'm2': <classmethod object at 0x00000180452CBB70>, 'm3': <staticmethod object at 0x00000180452CBDA0>, '__dict__': <attribute '__dict__' of 'Test' objects>, '__weakref__': <attribute '__weakref__' of 'Test' objects>, '__doc__': None, 'c': 30}\n",
      "{'__module__': '__main__', '__init__': <function Test.__init__ at 0x0000018045CCDD90>, 'm1': <function Test.m1 at 0x0000018045CCDD08>, 'm2': <classmethod object at 0x00000180452CBB70>, 'm3': <staticmethod object at 0x00000180452CBDA0>, '__dict__': <attribute '__dict__' of 'Test' objects>, '__weakref__': <attribute '__weakref__' of 'Test' objects>, '__doc__': None, 'd': 40}\n",
      "{'__module__': '__main__', '__init__': <function Test.__init__ at 0x0000018045CCDD90>, 'm1': <function Test.m1 at 0x0000018045CCDD08>, 'm2': <classmethod object at 0x00000180452CBB70>, 'm3': <staticmethod object at 0x00000180452CBDA0>, '__dict__': <attribute '__dict__' of 'Test' objects>, '__weakref__': <attribute '__weakref__' of 'Test' objects>, '__doc__': None, 'e': 50}\n",
      "{'__module__': '__main__', '__init__': <function Test.__init__ at 0x0000018045CCDD90>, 'm1': <function Test.m1 at 0x0000018045CCDD08>, 'm2': <classmethod object at 0x00000180452CBB70>, 'm3': <staticmethod object at 0x00000180452CBDA0>, '__dict__': <attribute '__dict__' of 'Test' objects>, '__weakref__': <attribute '__weakref__' of 'Test' objects>, '__doc__': None, 'e': 50, 'f': 60}\n"
     ]
    }
   ],
   "source": [
    "print(Test.__dict__)\n",
    "t=Test()\n",
    "print(Test.__dict__)\n",
    "t.m1()\n",
    "print(Test.__dict__)\n",
    "Test.m2()\n",
    "print(Test.__dict__)\n",
    "Test.m3()\n",
    "print(Test.__dict__)\n",
    "Test.f=60\n",
    "print(Test.__dict__)\n",
    "#del Test.e\n",
    "#print(Test.__dict__)"
   ]
  },
  {
   "cell_type": "markdown",
   "metadata": {},
   "source": [
    "#### Note: \n",
    "- By using object reference variable/self we can read static variables, but we cannot modify or delete.\n",
    "- If we are trying to modify, then a new instance variable will be added to that particular object. t1.a = 70\n",
    "- If we are trying to delete then we will get error."
   ]
  },
  {
   "cell_type": "code",
   "execution_count": 83,
   "metadata": {},
   "outputs": [
    {
     "ename": "AttributeError",
     "evalue": "a",
     "output_type": "error",
     "traceback": [
      "\u001b[1;31m---------------------------------------------------------------------------\u001b[0m",
      "\u001b[1;31mAttributeError\u001b[0m                            Traceback (most recent call last)",
      "\u001b[1;32m<ipython-input-83-9e83a0fa6557>\u001b[0m in \u001b[0;36m<module>\u001b[1;34m\u001b[0m\n\u001b[0;32m      3\u001b[0m \u001b[1;33m\u001b[0m\u001b[0m\n\u001b[0;32m      4\u001b[0m \u001b[0mt1\u001b[0m\u001b[1;33m=\u001b[0m\u001b[0mTest\u001b[0m\u001b[1;33m(\u001b[0m\u001b[1;33m)\u001b[0m\u001b[1;33m\u001b[0m\u001b[0m\n\u001b[1;32m----> 5\u001b[1;33m \u001b[1;32mdel\u001b[0m \u001b[0mt1\u001b[0m\u001b[1;33m.\u001b[0m\u001b[0ma\u001b[0m\u001b[1;33m\u001b[0m\u001b[0m\n\u001b[0m",
      "\u001b[1;31mAttributeError\u001b[0m: a"
     ]
    }
   ],
   "source": [
    "class Test:\n",
    "    a=10\n",
    "    \n",
    "t1=Test()\n",
    "del t1.a"
   ]
  },
  {
   "cell_type": "markdown",
   "metadata": {},
   "source": [
    "#### We can modify or delete static variables only by using classname or cls variable."
   ]
  },
  {
   "cell_type": "code",
   "execution_count": 84,
   "metadata": {},
   "outputs": [
    {
     "name": "stdout",
     "output_type": "stream",
     "text": [
      "Welcome to  Bank of Bhimavaram\n",
      "Enter name of the customer:pawan\n",
      "d-Deposit \n",
      "w-Withdrawn \n",
      "e=Exit\n",
      "Choose your optiond\n",
      "Enter Amount1000\n",
      "Balance after Deposit 1000.0\n",
      "d-Deposit \n",
      "w-Withdrawn \n",
      "e=Exit\n",
      "Choose your optionw\n",
      "Enter Amount200\n",
      "Balance after Withdrawn 800.0\n",
      "d-Deposit \n",
      "w-Withdrawn \n",
      "e=Exit\n",
      "Choose your option900\n",
      "Invalid option.please choose valid option..\n",
      "d-Deposit \n",
      "w-Withdrawn \n",
      "e=Exit\n",
      "Choose your optionw\n",
      "Enter Amount900\n",
      "Insufficient Funds\n"
     ]
    },
    {
     "ename": "SystemExit",
     "evalue": "",
     "output_type": "error",
     "traceback": [
      "An exception has occurred, use %tb to see the full traceback.\n",
      "\u001b[1;31mSystemExit\u001b[0m\n"
     ]
    },
    {
     "name": "stderr",
     "output_type": "stream",
     "text": [
      "C:\\Users\\LENOVO\\Anaconda3\\envs\\python\\lib\\site-packages\\IPython\\core\\interactiveshell.py:3351: UserWarning: To exit: use 'exit', 'quit', or Ctrl-D.\n",
      "  warn(\"To exit: use 'exit', 'quit', or Ctrl-D.\", stacklevel=1)\n"
     ]
    }
   ],
   "source": [
    "import sys\n",
    "\n",
    "class Customer:\n",
    "    \"\"\"Customer class with bank operations\"\"\"\n",
    "    bankname=\"Bank of Bhimavaram\"\n",
    "    \n",
    "    def __init__(self,name,balance=0.0):\n",
    "        self.name=name\n",
    "        self.balance=balance\n",
    "        \n",
    "    def deposit(self,amt):\n",
    "        self.balance=self.balance+amt\n",
    "        print(\"Balance after Deposit\",self.balance)\n",
    "        \n",
    "    def withdraw(self,amt):\n",
    "        if amt>self.balance:\n",
    "            print(\"Insufficient Funds\")\n",
    "            sys.exit()\n",
    "        self.balance=self.balance-amt\n",
    "        print(\"Balance after Withdrawn\",self.balance)\n",
    "    \n",
    "print(\"Welcome to \",Customer.bankname)\n",
    "\n",
    "name=input(\"Enter name of the customer:\")\n",
    "c=Customer(name)\n",
    "\n",
    "while True:\n",
    "    print(\"d-Deposit \\nw-Withdrawn \\ne=Exit\")\n",
    "    option=input(\"Choose your option\")\n",
    "    if option==\"d\" or option==\"D\":\n",
    "        amt = float(input(\"Enter Amount\"))\n",
    "        c.deposit(amt)\n",
    "        \n",
    "    elif option==\"w\" or option==\"W\":\n",
    "        amt = float(input(\"Enter Amount\"))\n",
    "        c.withdraw(amt)\n",
    "        \n",
    "    elif option==\"e\" or option==\"E\":\n",
    "        print(\"Thanks for Banking..\")\n",
    "        sys.exit()\n",
    "    else:\n",
    "        print(\"Invalid option.please choose valid option..\")"
   ]
  },
  {
   "cell_type": "markdown",
   "metadata": {},
   "source": [
    "## local variable\n",
    "- Sometimes to meet temporary requirements of programmer,we can declare variables inside a method directly,such type of variables are called local variable or temporary variables.\n",
    "- Local variables will be created at the time of method execution and destroyed once method completes.\n",
    "- Local variables of a method cannot be accessed from outside of method."
   ]
  },
  {
   "cell_type": "code",
   "execution_count": 87,
   "metadata": {},
   "outputs": [
    {
     "name": "stdout",
     "output_type": "stream",
     "text": [
      "Hello 0\n",
      "Hello 1\n",
      "Hello 2\n",
      "Hello 3\n",
      "Hello 4\n",
      "Hello 5\n",
      "Hello 6\n",
      "Hello 7\n",
      "Hello 8\n",
      "Hello 9\n"
     ]
    }
   ],
   "source": [
    "class Test:\n",
    "    def m1():\n",
    "        i=0\n",
    "        while i<10:\n",
    "            print(\"Hello\",i)\n",
    "            i=i+1\n",
    "            \n",
    "Test.m1()"
   ]
  },
  {
   "cell_type": "code",
   "execution_count": 88,
   "metadata": {},
   "outputs": [
    {
     "name": "stdout",
     "output_type": "stream",
     "text": [
      "1000\n",
      "2000\n"
     ]
    }
   ],
   "source": [
    "class Test1:\n",
    "    def m1(self):\n",
    "        a=1000\n",
    "        print(a)\n",
    "    \n",
    "    def m2(self):\n",
    "        b=2000\n",
    "        print(b)\n",
    "t=Test1()\n",
    "t.m1()\n",
    "t.m2()"
   ]
  },
  {
   "cell_type": "code",
   "execution_count": 89,
   "metadata": {},
   "outputs": [
    {
     "name": "stdout",
     "output_type": "stream",
     "text": [
      "100\n",
      "200\n"
     ]
    }
   ],
   "source": [
    "class Test2:\n",
    "    def m1():\n",
    "        a=100\n",
    "        print(a)\n",
    "        \n",
    "    def m2():\n",
    "        b=200\n",
    "        #print(a)   #NameError: name 'a' is not defined\n",
    "        print(b)\n",
    "        \n",
    "Test2.m1()\n",
    "Test2.m2()"
   ]
  },
  {
   "cell_type": "markdown",
   "metadata": {},
   "source": [
    "## 3 types of methods\n",
    "- Instance methods(Object)\n",
    "- class methods\n",
    "- static methods\n",
    "\n"
   ]
  },
  {
   "cell_type": "markdown",
   "metadata": {},
   "source": [
    "#### Instance method\n",
    "- Inside method implementation if we are using instance variables then such type of methods are called instance methods. Inside instance method declaration,we have to pass self variable.\n",
    "def m1(self):\n",
    "- By using self variable inside method we can able to access instance variables.\n",
    "- Within the class we can call instance method by using self variable and from outside of the class we can call by using object reference."
   ]
  },
  {
   "cell_type": "code",
   "execution_count": 90,
   "metadata": {},
   "outputs": [
    {
     "name": "stdout",
     "output_type": "stream",
     "text": [
      "enter no. of Students::2\n",
      "Enter name:swamy\n",
      "enter marks:99\n",
      "HI swamy\n",
      "your marks are: 99\n",
      "you got first grade\n",
      "Enter name:pawan\n",
      "enter marks:60\n",
      "HI pawan\n",
      "your marks are: 60\n",
      "you got first grade\n"
     ]
    }
   ],
   "source": [
    "class Student:\n",
    "    def __init__(self,x,y):\n",
    "        self.name=x\n",
    "        self.marks=y\n",
    "        \n",
    "    def display(self):\n",
    "        print(\"HI\",self.name)\n",
    "        print(\"your marks are:\",self.marks)\n",
    "        \n",
    "    def grade(self):\n",
    "        if self.marks>=60:\n",
    "            print(\"you got first grade\")\n",
    "        elif self.marks>=50:\n",
    "            print(\"you got second grade\")\n",
    "        elif self.marks>=35:\n",
    "            print(\"you got third grade\")\n",
    "        else:\n",
    "            print(\"you are failed\")\n",
    "    \n",
    "n=int(input(\"enter no. of Students::\"))\n",
    "for i in range(n):\n",
    "    x=input(\"Enter name:\")\n",
    "    y=int(input(\"enter marks:\"))\n",
    "    s=Student(x,y)\n",
    "    s.display()\n",
    "    s.grade()"
   ]
  },
  {
   "cell_type": "markdown",
   "metadata": {},
   "source": [
    "## Getter(accessor) and Setter(mutator) methods"
   ]
  },
  {
   "cell_type": "code",
   "execution_count": 93,
   "metadata": {},
   "outputs": [
    {
     "name": "stdout",
     "output_type": "stream",
     "text": [
      "Enter no. of Students::2\n",
      "enter name:swamy\n",
      "enter marks:99\n",
      "hi swamy\n",
      "your marks are: 99\n",
      "enter name:pawan\n",
      "enter marks:60\n",
      "hi pawan\n",
      "your marks are: 60\n"
     ]
    }
   ],
   "source": [
    "class Student:\n",
    "    def setName(self,name):\n",
    "        self.name=name\n",
    "        \n",
    "    def setMarks(self,marks):\n",
    "        self.marks=marks\n",
    "        \n",
    "    def getName(self):\n",
    "        return self.name\n",
    "    \n",
    "    def getMarks(self):\n",
    "        return self.marks\n",
    "    \n",
    "n=int(input(\"Enter no. of Students::\"))\n",
    "for i in range(n):\n",
    "    s=Student()\n",
    "    name=input(\"enter name:\")\n",
    "    s.setName(name)\n",
    "    \n",
    "    marks=int(input(\"enter marks:\"))\n",
    "    s.setMarks(marks)\n",
    "    \n",
    "    print(\"hi\",s.getName())\n",
    "    print(\"your marks are:\",s.getMarks())"
   ]
  },
  {
   "cell_type": "markdown",
   "metadata": {},
   "source": [
    "## class methods\n",
    "- Inside method implementation if we are using only class variables (static variables), then such type of methods we should declare as class method.\n",
    "- We can declare class method explicitly by using @classmethod decorator. For class method we should provide cls variable at the time of declaration\n",
    "- We can call classmethod by using classname or object reference variable."
   ]
  },
  {
   "cell_type": "markdown",
   "metadata": {},
   "source": [
    "### Accessing class methods"
   ]
  },
  {
   "cell_type": "code",
   "execution_count": 94,
   "metadata": {},
   "outputs": [
    {
     "name": "stdout",
     "output_type": "stream",
     "text": [
      "jeep is 4 wheel drive car\n",
      "fortuner is 4 wheel drive car\n"
     ]
    }
   ],
   "source": [
    "class Car:\n",
    "    wheel=4\n",
    "    \n",
    "    @classmethod\n",
    "    def drive(cls,name):\n",
    "        print(\"{} is {} wheel drive car\".format(name,cls.wheel))\n",
    "        \n",
    "Car.drive(\"jeep\")\n",
    "Car.drive(\"fortuner\")"
   ]
  },
  {
   "cell_type": "markdown",
   "metadata": {},
   "source": [
    "### Tracking no. of objects created for a class"
   ]
  },
  {
   "cell_type": "code",
   "execution_count": 96,
   "metadata": {},
   "outputs": [
    {
     "name": "stdout",
     "output_type": "stream",
     "text": [
      "no. of objects created: 2\n",
      "no. of objects created: 4\n"
     ]
    }
   ],
   "source": [
    "class Test:\n",
    "    count=0  #class variable\n",
    "    def __init__(self):\n",
    "        Test.count=Test.count+1\n",
    "    \n",
    "    @classmethod\n",
    "    def noofobjects(cls):\n",
    "        print(\"no. of objects created:\",cls.count)\n",
    "\n",
    "t1=Test()\n",
    "t2=Test()\n",
    "Test.noofobjects()\n",
    "\n",
    "t3=Test()\n",
    "t4=Test()\n",
    "Test.noofobjects()"
   ]
  },
  {
   "cell_type": "markdown",
   "metadata": {},
   "source": [
    "## Static methods\n",
    "- In general these methods are general utility methods.\n",
    "- Inside these methods we won't use any instance or class variables. \n",
    "- Here - we won't provide self or cls arguments at the time of declaration.\n",
    "- We can declare static method explicitly by using @staticmethod decorator We can access static methods by using classname or object reference"
   ]
  },
  {
   "cell_type": "markdown",
   "metadata": {},
   "source": [
    "### Accessing Static methods"
   ]
  },
  {
   "cell_type": "code",
   "execution_count": 97,
   "metadata": {},
   "outputs": [
    {
     "name": "stdout",
     "output_type": "stream",
     "text": [
      "Sum: 30\n",
      "sub: 10\n",
      "Mul: 200\n"
     ]
    }
   ],
   "source": [
    "class maths:\n",
    "    @staticmethod\n",
    "    def add(a,b):\n",
    "        print(\"Sum:\",a+b)\n",
    "    @staticmethod    \n",
    "    def sub(a,b):\n",
    "        print(\"sub:\",a-b)\n",
    "    @staticmethod   \n",
    "    def mul(a,b):\n",
    "        print(\"Mul:\",a*b)\n",
    "        \n",
    "maths.add(20,10)\n",
    "maths.sub(20,10)\n",
    "maths.mul(20,10)"
   ]
  },
  {
   "cell_type": "markdown",
   "metadata": {},
   "source": [
    "#### Note: In general we can use only instance and static methods.Inside static method we can access class level variables by using class name.\n",
    "class methods are most rarely used methods in python."
   ]
  },
  {
   "cell_type": "markdown",
   "metadata": {},
   "source": [
    "## Passing members of one class to another class\n",
    "- We can access members of one class inside another class."
   ]
  },
  {
   "cell_type": "code",
   "execution_count": 98,
   "metadata": {},
   "outputs": [
    {
     "name": "stdout",
     "output_type": "stream",
     "text": [
      "employee no: 10\n",
      "Employee name: pawan\n",
      "Employee salary: 11000\n"
     ]
    }
   ],
   "source": [
    "class Employee:\n",
    "    def __init__(self,eno,ename,esal):\n",
    "        self.eno=eno\n",
    "        self.ename=ename\n",
    "        self.esal=esal\n",
    "        \n",
    "    def display(self):\n",
    "        print(\"employee no:\",self.eno)\n",
    "        print(\"Employee name:\",self.ename)\n",
    "        print(\"Employee salary:\",self.esal)\n",
    "        \n",
    "class Test:\n",
    "    def modify(emp):\n",
    "        emp.esal=emp.esal+1000\n",
    "        emp.display()\n",
    "        \n",
    "e=Employee(10,\"pawan\",10000)\n",
    "Test.modify(e)"
   ]
  },
  {
   "cell_type": "markdown",
   "metadata": {},
   "source": [
    "## inner class\n",
    "- Sometimes we can declare a class inside another class,such type of classes are called inner classes.\n",
    "- Without existing one type of object if there is no chance of existing another type of object,then we should go for inner classes.\n",
    "- Example: Without existing Car object there is no chance of existing Engine object. Hence Engine class should be part of Car class.\n",
    "class Car: ..... class Engine:"
   ]
  },
  {
   "cell_type": "markdown",
   "metadata": {},
   "source": [
    "#### Note: Without existing outer class object there is no chance of existing inner class object. Hence inner class object is always associated with outer class object."
   ]
  },
  {
   "cell_type": "code",
   "execution_count": 100,
   "metadata": {},
   "outputs": [],
   "source": [
    "class Outer:\n",
    "    def __init__(self):\n",
    "        print(\"Outer class Object\")\n",
    "        \n",
    "    class Inner:\n",
    "        def __init__(self):\n",
    "            print(\"inner class object\")\n",
    "        \n",
    "        def m1(self):\n",
    "            print(\"inner class instance method\")"
   ]
  },
  {
   "cell_type": "code",
   "execution_count": 101,
   "metadata": {},
   "outputs": [
    {
     "name": "stdout",
     "output_type": "stream",
     "text": [
      "Outer class Object\n",
      "inner class object\n",
      "inner class instance method\n"
     ]
    }
   ],
   "source": [
    "o=Outer()\n",
    "i = o.Inner()\n",
    "i.m1()"
   ]
  },
  {
   "cell_type": "code",
   "execution_count": 102,
   "metadata": {},
   "outputs": [
    {
     "name": "stdout",
     "output_type": "stream",
     "text": [
      "Outer class Object\n",
      "inner class object\n",
      "inner class instance method\n"
     ]
    }
   ],
   "source": [
    "i=Outer().Inner()\n",
    "i.m1()"
   ]
  },
  {
   "cell_type": "code",
   "execution_count": 103,
   "metadata": {},
   "outputs": [
    {
     "name": "stdout",
     "output_type": "stream",
     "text": [
      "Outer class Object\n",
      "inner class object\n",
      "inner class instance method\n"
     ]
    }
   ],
   "source": [
    "i=Outer().Inner().m1()"
   ]
  },
  {
   "cell_type": "code",
   "execution_count": 107,
   "metadata": {},
   "outputs": [
    {
     "name": "stdout",
     "output_type": "stream",
     "text": [
      "Name: pawan\n",
      "Dob=9/12/1994\n"
     ]
    }
   ],
   "source": [
    "class Person:\n",
    "    def __init__(self):\n",
    "        self.name='pawan'\n",
    "        self.db=self.Dob()\n",
    "        \n",
    "    def display(self):\n",
    "        print('Name:',self.name)\n",
    "        \n",
    "    class Dob:\n",
    "        def __init__(self):\n",
    "            self.dd=9\n",
    "            self.mm=12\n",
    "            self.yy=1994\n",
    "        def display(self):\n",
    "            print('Dob={}/{}/{}'.format(self.dd,self.mm,self.yy))\n",
    "            \n",
    "p=Person()\n",
    "p.display()   # Name: pawan\n",
    "x=p.db\n",
    "x.display()   # Dob=9/12/1994"
   ]
  },
  {
   "cell_type": "markdown",
   "metadata": {},
   "source": [
    "## Garbage collector\n",
    "- In old languages like C++, programmer is responsible for both creation and destruction of objects.Usually programmer taking very much care while creating object, but neglecting destruction of useless objects. Because of his neglectance, total memory can be filled with useless objects which creates memory problems and total application will be down with Out of memory error.\n",
    "- But in Python, We have some assistant which is always running in the background to destroy useless objects.Because this assistant the chance of failing Python program with memory problems is very less. This assistant is nothing but Garbage Collector.\n",
    "- Hence the main objective of Garbage Collector is to destroy useless objects.\n",
    "- If an object does not have any reference variable then that object eligible for Garbage Collection."
   ]
  },
  {
   "cell_type": "markdown",
   "metadata": {},
   "source": [
    "#### How to enable and disable Garbage Collector in our program:\n",
    "- By default Gargbage collector is enabled, but we can disable based on our requirement. In this context we can use the following functions of gc module."
   ]
  },
  {
   "cell_type": "code",
   "execution_count": 115,
   "metadata": {},
   "outputs": [
    {
     "name": "stdout",
     "output_type": "stream",
     "text": [
      "True\n",
      "False\n",
      "True\n"
     ]
    }
   ],
   "source": [
    "import gc\n",
    "\n",
    "print(gc.isenabled())\n",
    "\n",
    "gc.disable()\n",
    "print(gc.isenabled())\n",
    "\n",
    "gc.enable()\n",
    "print(gc.isenabled())"
   ]
  },
  {
   "cell_type": "markdown",
   "metadata": {},
   "source": [
    "## Destructor\n",
    "- Destructor is a special method and the name should be __del__ Just before destroying an object Garbage Collector always calls destructor to perform clean up activities (Resource deallocation activities like close database connection etc). \n",
    "- Once destructor execution completed then Garbage Collector automatically destroys that object."
   ]
  },
  {
   "cell_type": "markdown",
   "metadata": {},
   "source": [
    "#### Note: The job of destructor is not to destroy object and it is just to perform clean up activities."
   ]
  },
  {
   "cell_type": "code",
   "execution_count": 116,
   "metadata": {},
   "outputs": [
    {
     "name": "stdout",
     "output_type": "stream",
     "text": [
      "Obj Inititalization...\n",
      "clean up activities...\n",
      "the end..\n"
     ]
    }
   ],
   "source": [
    "import time\n",
    "class Test:\n",
    "    def __init__(self):\n",
    "        print(\"Obj Inititalization...\")\n",
    "        \n",
    "    def __del__(self):\n",
    "        print(\"clean up activities...\")\n",
    "        \n",
    "t1=Test()\n",
    "t1=None\n",
    "time.sleep(5)\n",
    "print(\"the end..\")"
   ]
  },
  {
   "cell_type": "markdown",
   "metadata": {},
   "source": [
    "#### Note: If the object does not contain any reference variable then only it is eligible fo GC. ie if the reference count is zero then only object eligible for GC"
   ]
  },
  {
   "cell_type": "code",
   "execution_count": 117,
   "metadata": {},
   "outputs": [
    {
     "name": "stdout",
     "output_type": "stream",
     "text": [
      "Constructor Execution...\n",
      "1650428402376\n",
      "1650428402376\n",
      "1650428402376\n"
     ]
    }
   ],
   "source": [
    "import time\n",
    "\n",
    "class Test:\n",
    "    def __init__(self):\n",
    "        print(\"Constructor Execution...\")\n",
    "        \n",
    "    def __del__(self):\n",
    "        print(\"Destructor Execution...\")\n",
    "\n",
    "t1=Test()\n",
    "t2=t1\n",
    "t3=t2\n",
    "print(id(t1))\n",
    "print(id(t2))\n",
    "print(id(t3))"
   ]
  },
  {
   "cell_type": "code",
   "execution_count": 118,
   "metadata": {},
   "outputs": [
    {
     "name": "stdout",
     "output_type": "stream",
     "text": [
      "object not yet destroyed after deleting t1\n",
      "object not yet destroyed even after deleting t2\n",
      "I am trying to delete last reference variable...\n",
      "Destructor Execution...\n"
     ]
    }
   ],
   "source": [
    "del t1\n",
    "time.sleep(5)\n",
    "print(\"object not yet destroyed after deleting t1\")\n",
    "\n",
    "del t2\n",
    "time.sleep(5)\n",
    "print(\"object not yet destroyed even after deleting t2\")\n",
    "print(\"I am trying to delete last reference variable...\")\n",
    "\n",
    "del t3"
   ]
  },
  {
   "cell_type": "code",
   "execution_count": 119,
   "metadata": {},
   "outputs": [
    {
     "name": "stdout",
     "output_type": "stream",
     "text": [
      "Constructor Execution...\n",
      "Constructor Execution...\n",
      "Constructor Execution...\n",
      "Destructor Execution...\n",
      "Destructor Execution...\n",
      "Destructor Execution...\n",
      "End of application\n"
     ]
    }
   ],
   "source": [
    "import time\n",
    "\n",
    "class Test:\n",
    "    def __init__(self):\n",
    "        print(\"Constructor Execution...\")\n",
    "    def __del__(self):\n",
    "        print(\"Destructor Execution...\")\n",
    "        \n",
    "list=[Test(),Test(),Test()]\n",
    "del list\n",
    "time.sleep(5)\n",
    "print(\"End of application\")"
   ]
  },
  {
   "cell_type": "markdown",
   "metadata": {},
   "source": [
    "### How to find the number of references of an object:\n",
    "- sys module contains getrefcount() function for this purpose."
   ]
  },
  {
   "cell_type": "code",
   "execution_count": 120,
   "metadata": {},
   "outputs": [
    {
     "name": "stdout",
     "output_type": "stream",
     "text": [
      "5\n"
     ]
    }
   ],
   "source": [
    "import sys\n",
    "\n",
    "class Test:\n",
    "    pass\n",
    "\n",
    "t1=Test()\n",
    "t2=t1\n",
    "t3=t1\n",
    "t4=t1\n",
    "print(sys.getrefcount(t1))"
   ]
  },
  {
   "cell_type": "markdown",
   "metadata": {},
   "source": [
    "#### Note: For every object, Python internally maintains one default reference variable self."
   ]
  },
  {
   "cell_type": "code",
   "execution_count": null,
   "metadata": {},
   "outputs": [],
   "source": []
  }
 ],
 "metadata": {
  "kernelspec": {
   "display_name": "Python 3",
   "language": "python",
   "name": "python3"
  },
  "language_info": {
   "codemirror_mode": {
    "name": "ipython",
    "version": 3
   },
   "file_extension": ".py",
   "mimetype": "text/x-python",
   "name": "python",
   "nbconvert_exporter": "python",
   "pygments_lexer": "ipython3",
   "version": "3.6.5"
  }
 },
 "nbformat": 4,
 "nbformat_minor": 2
}
