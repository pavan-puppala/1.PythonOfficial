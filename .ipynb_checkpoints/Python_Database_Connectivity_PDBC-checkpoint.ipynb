{
 "cells": [
  {
   "cell_type": "markdown",
   "metadata": {},
   "source": [
    "### Storage Areas\n",
    "- As the Part of our Applications, we required to store our Data like Customers Information, Billing\n",
    "Information, Calls Information etc..\n",
    "- To store this Data, we required Storage Areas. There are 2 types of Storage Areas.\n",
    "        1) Temporary Storage Areas\n",
    "        2) Permanent Storage Areas"
   ]
  },
  {
   "cell_type": "markdown",
   "metadata": {},
   "source": [
    "#### 1.Temporary Storage Areas: These are the Memory Areas where Data will be stored temporarily.\n",
    "- Eg: Python objects like List, Tuple, Dictionary.\n",
    "- Once Python program completes its execution then these objects will be destroyed automatically\n",
    "and data will be lost."
   ]
  },
  {
   "cell_type": "markdown",
   "metadata": {},
   "source": [
    "#### 2. Permanent Storage Areas: Also known as Persistent Storage Areas. Here we can store Data permanently.\n",
    "- Eg: File Systems, Databases, Data warehouses, Big Data Technologies etc"
   ]
  },
  {
   "cell_type": "markdown",
   "metadata": {},
   "source": [
    "### File Systems: File Systems can be provided by Local operating System. File Systems are best suitable to store very less Amount of Information.\n",
    "\n",
    "#### Limitaitons:\n",
    "- We cannot store huge Amount of Information.\n",
    "- There is no Query Language support and hence operations will become very complex.\n",
    "- There is no Security for Data.\n",
    "- There is no Mechanism to prevent duplicate Data. Hence there may be a chance of Data Inconsistency Problems."
   ]
  },
  {
   "cell_type": "markdown",
   "metadata": {},
   "source": [
    "### Databases:\n",
    "- We can store Huge Amount of Information in the Databases.\n",
    "- Query Language Support is available for every Database and hence we can perform Database Operations very easily.\n",
    "- To access Data present in the Database, compulsory username and pwd must be required.Hence Data is secured.\n",
    "- Inside Database Data will be stored in the form of Tables. While developing Database Table\n",
    "    - Schemas, Database Admin follow various Normalization Techniques and can implement various\n",
    "    - Constraints like Unique Key Constrains, Primary Key Constraints etc which prevent Data Duplication. Hence there is no chance of Data Inconsistency Problems."
   ]
  },
  {
   "cell_type": "code",
   "execution_count": null,
   "metadata": {},
   "outputs": [],
   "source": []
  }
 ],
 "metadata": {
  "kernelspec": {
   "display_name": "Python 3",
   "language": "python",
   "name": "python3"
  },
  "language_info": {
   "codemirror_mode": {
    "name": "ipython",
    "version": 3
   },
   "file_extension": ".py",
   "mimetype": "text/x-python",
   "name": "python",
   "nbconvert_exporter": "python",
   "pygments_lexer": "ipython3",
   "version": "3.6.5"
  }
 },
 "nbformat": 4,
 "nbformat_minor": 2
}
